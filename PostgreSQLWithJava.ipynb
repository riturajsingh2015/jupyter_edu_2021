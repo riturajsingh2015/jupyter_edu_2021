{
 "cells": [
  {
   "cell_type": "markdown",
   "id": "75be36f0",
   "metadata": {
    "kernel": "Bash",
    "tags": []
   },
   "source": [
    "# PostgreSQL with Java Demo"
   ]
  },
  {
   "cell_type": "markdown",
   "id": "2820b7c2",
   "metadata": {
    "kernel": "SoS"
   },
   "source": [
    "## Start PostgreSQL\n",
    "- if first attempt fails, try again :-)"
   ]
  },
  {
   "cell_type": "code",
   "execution_count": null,
   "id": "c4f04421",
   "metadata": {
    "kernel": "Bash",
    "tags": []
   },
   "outputs": [],
   "source": [
    "/home/student/postgresql/start_postgresql.sh"
   ]
  },
  {
   "cell_type": "code",
   "execution_count": null,
   "id": "7f6ce956",
   "metadata": {
    "kernel": "Java",
    "tags": []
   },
   "outputs": [],
   "source": [
    "%%loadFromPOM\n",
    "<dependency>\n",
    "    <groupId>org.postgresql</groupId>\n",
    "    <artifactId>postgresql</artifactId>\n",
    "    <version>42.2.19</version>\n",
    "</dependency>"
   ]
  },
  {
   "cell_type": "code",
   "execution_count": null,
   "id": "18b42b19",
   "metadata": {
    "kernel": "Java",
    "tags": []
   },
   "outputs": [],
   "source": [
    "import java.sql.*;\n",
    "\n",
    "try\n",
    "{  \n",
    "    Class.forName(\"org.postgresql.Driver\");  \n",
    "    Connection con=DriverManager.getConnection(\"jdbc:postgresql://127.0.0.1:5432/edu\");\n",
    "    Statement stmt=con.createStatement();\n",
    "    ResultSet rs=stmt.executeQuery(\"create table student(id int not null, name char(50));insert into student values(0, 'Freddy');insert into student values(1, 'Annie');\");\n",
    "    \n",
    "    /*\n",
    "    Statement stmt=con.createStatement();\n",
    "    ResultSet rs=stmt.executeQuery(\"select * from student;\");\n",
    "    while(rs.next())\n",
    "    {\n",
    "        System.out.println(rs.getString(2));\n",
    "    }\n",
    "    */\n",
    "    con.close();\n",
    "}\n",
    "catch(Exception e)\n",
    "{ \n",
    "    System.out.println(e);\n",
    "}"
   ]
  },
  {
   "cell_type": "code",
   "execution_count": null,
   "id": "91d9797c",
   "metadata": {
    "kernel": "Java"
   },
   "outputs": [],
   "source": [
    "System.out.println(\"WHAT THE FFFFFFFF\");"
   ]
  }
 ],
 "metadata": {
  "kernelspec": {
   "display_name": "SoS",
   "language": "sos",
   "name": "sos"
  },
  "language_info": {
   "codemirror_mode": "sos",
   "file_extension": ".sos",
   "mimetype": "text/x-sos",
   "name": "sos",
   "nbconvert_exporter": "sos_notebook.converter.SoS_Exporter",
   "pygments_lexer": "sos"
  },
  "sos": {
   "kernels": [
    [
     "Bash",
     "bash",
     "Bash",
     "#E6EEFF",
     "shell"
    ],
    [
     "Java",
     "java",
     "java",
     "",
     ""
    ]
   ],
   "panel": {
    "displayed": true,
    "height": 0
   },
   "version": "0.22.4"
  },
  "toc": {
   "base_numbering": 1,
   "nav_menu": {},
   "number_sections": true,
   "sideBar": true,
   "skip_h1_title": false,
   "title_cell": "Table of Contents",
   "title_sidebar": "Contents",
   "toc_cell": false,
   "toc_position": {},
   "toc_section_display": true,
   "toc_window_display": false
  }
 },
 "nbformat": 4,
 "nbformat_minor": 5
}
